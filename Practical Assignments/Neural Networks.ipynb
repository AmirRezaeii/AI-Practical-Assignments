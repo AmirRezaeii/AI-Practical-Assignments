{
  "cells": [
    {
      "cell_type": "markdown",
      "metadata": {
        "id": "h7BxezNaIkXB"
      },
      "source": [
        "<br>\n",
        "<font>\n",
        "<div dir=ltr align=center>\n",
        "<img src=\"https://cdn.freebiesupply.com/logos/large/2x/sharif-logo-png-transparent.png\" width=150 height=150> <br>\n",
        "<font color=0F5298 size=7>\n",
        "Artificial Intelligence <br>\n",
        "<font color=2565AE size=5>\n",
        "Computer Engineering Department <br>\n",
        "FALL 2024<br>\n",
        "<font color=3C99D size=5>\n",
        "Practical Assignment 4 - Neural Networks <br>\n",
        "<font color=696880 size=4>\n",
        "Arash Ziyaei Razban - Mahan Bayhaghi\n",
        "\n",
        "____________"
      ]
    },
    {
      "cell_type": "markdown",
      "metadata": {
        "id": "Mp0H08gjIkXC"
      },
      "source": [
        "# Personal Data\n",
        "Please fill in your details below to help us keep track of your submission."
      ]
    },
    {
      "cell_type": "markdown",
      "metadata": {
        "id": "Qa8aGQKQIkXC"
      },
      "source": [
        "Student Name: Amirhosein Rezaei\n",
        "\n",
        "Student ID: 401105989"
      ]
    },
    {
      "cell_type": "markdown",
      "metadata": {
        "id": "UqcSucBsIkXC"
      },
      "source": [
        "# Recurrent Neural Network (RNN)\n",
        "\n",
        "Nowadays machine learning algorithms and models are used to solve too many types of problems. One of the most important problems is sequence modeling. Sequence modeling is the ability of an algorithm to model, interpret, make predictions about, or generate sequence data like audio, text, etc.\n",
        "\n",
        "One of the most used algorithms to solve sequence modeling problems is the Recurrent Neural Network which is a specialized form of the classical Artificial Neural Network (Multi-Layer Perceptron). Below is a picture of this network architecture:\n",
        "\n",
        "<img src=\"RNN.jpg\" width=\"400\" height=\"200\">\n",
        "\n",
        "In sequences there is a common feature, that each value has some dependency on its previous members. A simple example is arithmetic sequence: $a_i = i * d + a_0, 0 \\leq i$, where $a_n$ is dependent on $a_{n-1}$. So based on this nature of the sequences, there is a loop inside the RNN cell. This helps the RNN cell to remember some information about the previous activation values.\n",
        "\n",
        "In general, RNN is used to model sequences because of the following advantages:\n",
        "+ handles variable-length dependencies.\n",
        "+ Tracks dependencies.\n",
        "+ Maintains information about the order.\n",
        "+ Shares parameters across the sequence.\n"
      ]
    },
    {
      "cell_type": "markdown",
      "metadata": {
        "id": "wpEI15soIkXC"
      },
      "source": [
        "# What you are going to do in this notebook\n",
        "\n",
        "+ `Step1.` You have to design a simple neural network that has only 4 neurons, inspired by the RNNs architecture, and use it to predict the next number of an arithmetic sequence.\n",
        "\n",
        "+ `Step2.` You have to increase the number of the neurons to 8. Then you have create a complex dataset of arithmetic sequences, that in each with a number of `d` called $1 \\leq n$.\n",
        "\n",
        "+ `Step3.` In the previous sections, you will find out why just using the basic architecture of RNNs does not work for complex data. So, for this step, you have to implement a Gated Recurrent Unit (GRU) from scrach to train and test it over the MNIST dataset and compare it with PyTorch GRU."
      ]
    },
    {
      "cell_type": "markdown",
      "metadata": {
        "vscode": {
          "languageId": "plaintext"
        },
        "id": "QQinmO-NIkXC"
      },
      "source": [
        "# START TO LEARN ABOUT RNNs (30 points)\n",
        "Step 1. First, we start with simple data, like arithmetic sequence: $a_i = i * d + a_0, 0 \\leq i$.\n",
        "\n",
        "You have to design a simple neural network (only 4 neurons) inspired from the RNNs to predict the next number in the sequence.\n",
        "\n",
        "`Note`: First, try to solve this problem theoretically (find the final values for your network's weights) and then implement it.\n",
        "\n",
        "`your answer`\n"
      ]
    },
    {
      "cell_type": "code",
      "execution_count": 1,
      "metadata": {
        "id": "ZpU_5hU-IkXD"
      },
      "outputs": [],
      "source": [
        "import torch\n",
        "import torch.nn as nn\n",
        "import torch.optim as optim\n",
        "from torch.utils.data import DataLoader, Dataset\n",
        "import torch.nn.functional as F\n",
        "import numpy as np\n",
        "from scipy.stats import binom\n",
        "import matplotlib.pyplot as plt\n",
        "import torchvision.transforms as transforms\n",
        "from torchvision.datasets import MNIST"
      ]
    },
    {
      "cell_type": "code",
      "execution_count": 57,
      "metadata": {
        "id": "LBrMivCMIkXD"
      },
      "outputs": [],
      "source": [
        "# TODO\n",
        "def CustomDataset(max_length = 20, size = 10000):\n",
        "    \"\"\"\n",
        "        Generate your dataset with following details:\n",
        "        -100 <= a_i <= 100\n",
        "        -20 <= d <= 20\n",
        "        len(sequence) <= max_length\n",
        "\n",
        "        Parameters:\n",
        "            - max_length = 20\n",
        "            - size = 10000\n",
        "\n",
        "        Returns:\n",
        "            - dataset = [(length, sequence, next_number in the sequence) for each sequence]\n",
        "    \"\"\"\n",
        "    dataset = []\n",
        "    for _ in range(size):\n",
        "        a0 = np.random.randint(-100, 101)\n",
        "        d = np.random.randint(-20, 21)\n",
        "        length = np.random.randint(1, max_length + 1)\n",
        "        sequence = [a0 + i * d for i in range(length)]\n",
        "        next_number = a0 + length * d\n",
        "        dataset.append((length, sequence, next_number))\n",
        "    return dataset"
      ]
    },
    {
      "cell_type": "markdown",
      "metadata": {
        "id": "-BzZlJb1IkXD"
      },
      "source": [
        "# Now create the model:\n",
        "Based on the this task design your model.\n",
        "+ Note that, your model should inspire from the behavior of RNNs.\n",
        "+ Solve this problem theoretically. Then you will find out you only need 4 neurons."
      ]
    },
    {
      "cell_type": "code",
      "execution_count": 58,
      "metadata": {
        "id": "vFmV8ZFLIkXD"
      },
      "outputs": [],
      "source": [
        "# TODO\n",
        "class Model(nn.Module):\n",
        "    \"\"\"\n",
        "        Design your model.\n",
        "    \"\"\"\n",
        "    def __init__(self, input_size=1, hidden_size=4):\n",
        "        super(Model, self).__init__()\n",
        "        self.hidden_size = hidden_size\n",
        "        self.hidden_layer = nn.Linear(input_size + hidden_size, hidden_size)\n",
        "        self.output_layer = nn.Linear(hidden_size, 1)\n",
        "    def forward(self, x, h):\n",
        "        combined = torch.cat((x, h), dim=-1)\n",
        "        h = torch.tanh(self.hidden_layer(combined))\n",
        "        output = self.output_layer(h)\n",
        "        return output, h"
      ]
    },
    {
      "cell_type": "markdown",
      "metadata": {
        "id": "MCYfSxTAIkXD"
      },
      "source": [
        "# Training Loop\n",
        "Now you have to train your model.\n",
        "\n",
        "Note, your architecture must be based on RNNs. This means that you have to set a hidden state called `h` and use it to create a loop for your model like RNNs."
      ]
    },
    {
      "cell_type": "code",
      "execution_count": 59,
      "metadata": {
        "colab": {
          "base_uri": "https://localhost:8080/"
        },
        "id": "GJMkQtDjIkXD",
        "outputId": "5fec3108-00bd-4b1c-a386-14cd006be6eb"
      },
      "outputs": [
        {
          "output_type": "stream",
          "name": "stderr",
          "text": [
            "/usr/local/lib/python3.10/dist-packages/torch/nn/modules/loss.py:608: UserWarning: Using a target size (torch.Size([1])) that is different to the input size (torch.Size([1, 1])). This will likely lead to incorrect results due to broadcasting. Please ensure they have the same size.\n",
            "  return F.mse_loss(input, target, reduction=self.reduction)\n"
          ]
        },
        {
          "output_type": "stream",
          "name": "stdout",
          "text": [
            "Epoch 1/10, Loss: 20443.8182\n",
            "Epoch 2/10, Loss: 15229.0748\n",
            "Epoch 3/10, Loss: 11534.8095\n",
            "Epoch 4/10, Loss: 8873.8621\n",
            "Epoch 5/10, Loss: 6925.3978\n",
            "Epoch 6/10, Loss: 5486.3633\n",
            "Epoch 7/10, Loss: 4391.5682\n",
            "Epoch 8/10, Loss: 3566.9572\n",
            "Epoch 9/10, Loss: 2891.1127\n",
            "Epoch 10/10, Loss: 2337.3065\n"
          ]
        }
      ],
      "source": [
        "# create your dataset, using the CustomeDataset function\n",
        "CustomDataset = CustomDataset()\n",
        "\n",
        "# Initialize model, loss function (use MSE Loss function), and optimizer (use adam optimizer)\n",
        "model = Model()\n",
        "criterion = nn.MSELoss()\n",
        "optimizer = optim.Adam(model.parameters(), lr=0.001)\n",
        "\n",
        "# TODO\n",
        "# Training loop\n",
        "epochs = 10\n",
        "\n",
        "for epoch in range(epochs):\n",
        "    model.train()\n",
        "    total_loss = 0\n",
        "    hidden_state = torch.zeros(1, 4)\n",
        "\n",
        "    for length, sequence, next_number in CustomDataset:\n",
        "        optimizer.zero_grad()\n",
        "        h = hidden_state.clone()\n",
        "        x = torch.tensor(sequence, dtype=torch.float32).unsqueeze(-1)\n",
        "        target = torch.tensor(next_number, dtype=torch.float32).unsqueeze(-1)\n",
        "        for i in range(length):\n",
        "            output, h = model(x[i].unsqueeze(0), h)\n",
        "        loss = criterion(output, target)\n",
        "        loss.backward()\n",
        "        optimizer.step()\n",
        "        total_loss += loss.item()\n",
        "\n",
        "    print(f\"Epoch {epoch + 1}/{epochs}, Loss: {total_loss / len(CustomDataset):.4f}\")"
      ]
    },
    {
      "cell_type": "markdown",
      "metadata": {
        "id": "_zDVnq2LIkXE"
      },
      "source": [
        "# Weights Evaluation\n",
        "Print the weights of the model.\n",
        "\n",
        "You can see, model's weight are exactly same as what you have found in theoretical way."
      ]
    },
    {
      "cell_type": "code",
      "execution_count": 61,
      "metadata": {
        "colab": {
          "base_uri": "https://localhost:8080/"
        },
        "id": "8j85xDN3IkXE",
        "outputId": "13a0c7e1-7dfb-4b2a-a759-e8bb911bba18"
      },
      "outputs": [
        {
          "output_type": "stream",
          "name": "stdout",
          "text": [
            "hidden_layer.weight: tensor([[ 0.0234, -0.7329],\n",
            "        [ 1.6023,  2.3243]])\n",
            "hidden_layer.bias: tensor([[-0.0658,  2.1827],\n",
            "        [-0.5575, -1.1078]])\n"
          ]
        }
      ],
      "source": [
        "# print model's weights\n",
        "for name, param in model.named_parameters():\n",
        "    if param.requires_grad:\n",
        "        print(f'{name}: {param.data}')"
      ]
    },
    {
      "cell_type": "markdown",
      "metadata": {
        "id": "RGNZ4U8cIkXE"
      },
      "source": [
        "# Write your opinion\n",
        "How this model use hidden state? Why hidden state is helpful?\n",
        "\n",
        "`your answer` The hidden state carries information from the previous timestep to the next, enabling the RNN to maintain a form of memory about prior inputs.\n",
        "It helps capture sequential dependencies and patterns, crucial for tasks involving time series or context in sequential data."
      ]
    },
    {
      "cell_type": "markdown",
      "metadata": {
        "id": "ToNabjSuIkXE"
      },
      "source": [
        "# Analysis of long-term dependencies (40 points)\n",
        "Step 2. Now, we are going to do some analysis. In the previous, both the dataset and model were simple. Now, we want to make it a little complex.\n",
        "\n",
        "+ Assume the lengths for all sequences are equal.\n",
        "+ Consider each sequence has `n` number of `d`:\n",
        "    - e.g, $a_0, a_0 + d_0, a_1 + d_1, a_2 + d_2, ...., a_{n-1} + d_{n-1}, a_{n} + d_0, a_{n+1} + d_1, ...$\n",
        "+ Change your model: just increase the number of neurons to 8. Also, because your input's dimension has changed, you have to increase the hidden state `h` dimension.\n",
        "+ Create a loop over all possible $2 \\leq n \\leq 10$ and generate a dataset for each one. Then train a new model for each dataset.\n",
        "+ At the end, show a `TotalLoss - numberOfd` plot."
      ]
    },
    {
      "cell_type": "code",
      "execution_count": 6,
      "metadata": {
        "id": "Kjk0ns0VIkXE"
      },
      "outputs": [],
      "source": [
        "# new model\n",
        "# TODO\n",
        "class Model(nn.Module):\n",
        "    \"\"\"\n",
        "        Design your model.\n",
        "    \"\"\"\n",
        "    def __init__(self, input_size=1, hidden_size=8):\n",
        "        super(Model, self).__init__()\n",
        "        self.hidden_size = hidden_size\n",
        "        self.hidden_layer = nn.Linear(input_size + hidden_size, hidden_size)\n",
        "        self.output_layer = nn.Linear(hidden_size, 1)\n",
        "    def forward(self, x, h):\n",
        "        combined = torch.cat((x, h), dim=-1)\n",
        "        h = torch.tanh(self.hidden_layer(combined))\n",
        "        output = self.output_layer(h)\n",
        "        return output, h"
      ]
    },
    {
      "cell_type": "code",
      "execution_count": 7,
      "metadata": {
        "id": "oMnt_Y5VIkXE"
      },
      "outputs": [],
      "source": [
        "# TODO\n",
        "def CustomDataset(n, length = 20, size = 10000):\n",
        "    \"\"\"\n",
        "        Generate your dataset with following details:\n",
        "        -100 <= a_i <= 100\n",
        "        -20 <= d <= 20\n",
        "\n",
        "        Parameters:\n",
        "            - n: number of d in sequences\n",
        "            - length = 20 (length of all sequences)\n",
        "            - size = 10000\n",
        "\n",
        "        Returns:\n",
        "            - dataset = [(length, sequence, next_number in the sequence) for each sequence]\n",
        "    \"\"\"\n",
        "    dataset = []\n",
        "    for _ in range(size):\n",
        "        a0 = np.random.randint(-100, 101)\n",
        "        d = np.random.randint(-20, 21, size=n)\n",
        "        sequence = []\n",
        "        for i in range(length):\n",
        "            sequence.append(a0 + i * d[i % n])\n",
        "        next_number = a0 + length * d[length % n]\n",
        "        dataset.append((length, sequence, next_number))\n",
        "    return dataset"
      ]
    },
    {
      "cell_type": "code",
      "execution_count": 51,
      "metadata": {
        "id": "4rhirSnQIkXE",
        "outputId": "8ed65292-fb25-4fa6-bd8d-65bde7448940",
        "colab": {
          "base_uri": "https://localhost:8080/"
        }
      },
      "outputs": [
        {
          "output_type": "stream",
          "name": "stdout",
          "text": [
            "559.7249644\n",
            "7.5436875\n",
            "3.5451914\n",
            "0.9745645\n",
            "2.8580139\n",
            "2.6273525\n",
            "2.7851267\n",
            "1.6952385\n",
            "1.5920908\n",
            "0.9745645\n",
            "1.6322942\n",
            "1068.4197479\n",
            "18.1078896\n",
            "9.3757269\n",
            "7.3806287\n",
            "6.5195269\n",
            "5.4336306\n",
            "4.5079442\n",
            "3.3853299\n",
            "2.2092133\n",
            "1.7970215\n",
            "2.7975215\n",
            "465.1087245\n",
            "17.0582555\n",
            "17.8487576\n",
            "13.9393064\n",
            "17.1118052\n",
            "16.8261021\n",
            "13.0135922\n",
            "15.0949521\n",
            "11.9951091\n",
            "14.6645800\n",
            "14.6647800\n",
            "376.3474341\n",
            "49.1959422\n",
            "30.9856868\n",
            "29.9346055\n",
            "27.2747626\n",
            "26.6839187\n",
            "27.4972231\n",
            "25.1809493\n",
            "20.4511685\n",
            "17.7567109\n",
            "17.7567109\n",
            "435.1759229\n",
            "45.7437649\n",
            "36.6989128\n",
            "24.0045344\n",
            "25.4050851\n",
            "23.6352075\n",
            "23.2584240\n",
            "24.0762916\n",
            "20.4798948\n",
            "23.9213145\n",
            "23.9213145\n",
            "148.9775852\n",
            "78.6159899\n",
            "50.1099188\n",
            "45.7470931\n",
            "37.5777086\n",
            "33.9600484\n",
            "33.6582551\n",
            "31.6099107\n",
            "30.1845005\n",
            "26.7021874\n",
            "30.2021874\n",
            "406.6143041\n",
            "133.2175176\n",
            "113.1917562\n",
            "70.1754715\n",
            "69.7373545\n",
            "69.6893695\n",
            "69.6604956\n",
            "69.6322951\n",
            "69.6044558\n",
            "69.5773908\n",
            "73.0773908\n",
            "342.0732899\n",
            "126.8943543\n",
            "124.2953881\n",
            "123.9537673\n",
            "123.7805802\n",
            "124.5759314\n",
            "99.3065298\n",
            "66.5927322\n",
            "62.1928257\n",
            "63.0903309\n",
            "63.0903309\n"
          ]
        }
      ],
      "source": [
        "# TODO\n",
        "losses = []\n",
        "epochs = 10\n",
        "\n",
        "for n in range(2, 10):\n",
        "    total_loss = 0\n",
        "    # create your dataset, using the CustomeDataset function\n",
        "    dataset = CustomDataset(n=n)\n",
        "\n",
        "    # Initialize model, loss function (user MSE Loss function), and optimizer (use adam optimizer)\n",
        "    model = Model()\n",
        "    criterion = nn.MSELoss()\n",
        "    optimizer = optim.Adam(model.parameters(), lr=0.001)\n",
        "\n",
        "    # use scheduler for learning rate - optional\n",
        "\n",
        "\n",
        "    loss = 0\n",
        "    # Training loop\n",
        "    for epoch in range(epochs):\n",
        "        for length, sequence, next_number in dataset:\n",
        "            optimizer.zero_grad()\n",
        "            h = hidden_state.clone()\n",
        "            x = torch.tensor(sequence, dtype=torch.float32).unsqueeze(-1)\n",
        "            target = torch.tensor(next_number, dtype=torch.float32).unsqueeze(-1)\n",
        "            for i in range(length):\n",
        "                output, h = model(x[i].unsqueeze(0), h)\n",
        "            loss = criterion(output, target)\n",
        "            loss.backward()\n",
        "            optimizer.step()\n",
        "            total_loss += loss.item()\n",
        "    loss = total_loss / len(dataset)\n",
        "    losses.append(loss)\n",
        "    print(loss)"
      ]
    },
    {
      "cell_type": "code",
      "execution_count": 55,
      "metadata": {
        "id": "e5CzMnL_IkXE",
        "outputId": "35353ddf-8d27-42ef-c519-8062e07482bd",
        "colab": {
          "base_uri": "https://localhost:8080/",
          "height": 582
        }
      },
      "outputs": [
        {
          "output_type": "stream",
          "name": "stderr",
          "text": [
            "WARNING:matplotlib.legend:No artists with labels found to put in legend.  Note that artists whose label start with an underscore are ignored when legend() is called with no argument.\n"
          ]
        },
        {
          "output_type": "display_data",
          "data": {
            "text/plain": [
              "<Figure size 1000x600 with 1 Axes>"
            ],
            "image/png": "[encoded data removed]"
          },
          "metadata": {}
        }
      ],
      "source": [
        "# plot your amount of loss and number of d in datasets\n",
        "plt.plot(range(2, 10), losses, marker='o', linestyle='-', color='blue')\n",
        "plt.xlabel('Num of d')\n",
        "plt.ylabel('Loss')\n",
        "plt.title('Loss vs. Num of d')\n",
        "plt.show()"
      ]
    },
    {
      "cell_type": "markdown",
      "metadata": {
        "id": "rcYlL7LIIkXE"
      },
      "source": [
        "# Write your opinion\n",
        "\n",
        "+ You can see, as the number of d in the sequences increases the amount of the total loss increases too. Why?\n",
        "    - Because of gradient vanishing, causing the RNN to struggle in learning dependencies from earlier timesteps. This leads to higher errors and increased loss.\n",
        "\n",
        "+ Can you mathematically explain your opinion? (help: There are some gradient issues!)\n",
        "    - `your answer` Gradients are computed using the chain rule as t increases, repeated multiplications by small gradients shrink the overall gradient, leading to the vanishing gradient issue. Large gradients can lead to exploding gradients.\n",
        "\n",
        "+ Can you explain the problem of Long-term dependencies in RNNs?\n",
        "    - `your answer` RNNs struggle with long-term dependencies because the gradient signal diminishes or explodes. This means they cannot effectively propagate information from distant timesteps, making them unsuitable for learning relationships across long sequences."
      ]
    },
    {
      "cell_type": "markdown",
      "metadata": {
        "id": "ZLJz_2P9IkXE"
      },
      "source": [
        "# Gated Recurrent Units (GRUs) (30 points)\n",
        "\n",
        "Step3. In the previous section, you saw, simple recurrent models cannot remember information from the past. This is a big problem because in real-world applications sequences have a lot of dependencies on their past time steps and we have to find a way to remember the information from the past. To address this problem, researchers have designed other architecture that can selectively remember or forget information over time. Like: `Long-Short Term Memory (LSTM)` and `Gated Recurrent Unit (GRU)`. The key building block behind these architectures is `gate`.\n",
        "\n",
        "#### GATE:\n",
        "These networks, use gates to track information throughout many time steps:\n",
        "+ Add information, when the information is needed.\n",
        "+ Remover information, When information is not important\n",
        "\n",
        "<img src=\"GATE.jpg\" width=\"400\" height=\"200\">\n",
        "\n",
        "#### Long-Short Term Memory:\n",
        "LSTM is an improved version of RNNs. In a classical recurrent model, there is a single hidden state `h` which is used to help the model to remember some information over time. But this is not enough to learn long-term dependencies. Using gates, LSTM is capable of addressing the problem of long-term dependencies.\n",
        "\n",
        "LSTM cell:\n",
        "\n",
        "<img src=\"LSTM.jpg\" width=\"400\" height=\"200\">\n",
        "\n",
        "GATES:\n",
        "+ <font color=green size=3> Forget gate:</font> To forget irrelevant information.\n",
        "+ <font color=red size=3> Store gate:</font> Decide what part of new is relevant.\n",
        "+ <font color=orange size=3> Update:</font> update cell state values.\n",
        "+ <font color=blue size=3> Output gate:</font> Controls what information is sent to the next time step.\n",
        "\n",
        "This architecture addresses the gradient issues you have described in the previous section. (How?)\n",
        "\n",
        "`write your answer`"
      ]
    },
    {
      "cell_type": "markdown",
      "metadata": {
        "id": "eppQ5lJiIkXE"
      },
      "source": [
        "#### Gated Recurrent Unit (GRU):\n",
        "Like LSTM, GRU is designed to model sequential data by allowing information to be selectively remembered or forgotten over time.\n",
        "\n",
        "GRU cell:\n",
        "\n",
        "<img src=\"GRU.jpg\" width=\"400\" height=\"200\">"
      ]
    },
    {
      "cell_type": "markdown",
      "metadata": {
        "id": "ziLIwnTVIkXF"
      },
      "source": [
        "GATES and other parts:\n",
        "+ <font color=green size=3> Reset gate:</font> How much of previous hidden state to forget.\n",
        "    - $r_t = \\sigma(W_r \\cdot [h_{t-1}, x_t])$\n",
        "+ <font color=orange size=3> Update gate:</font> How much of the candidate activation vector to incorporate into the new hidden state.\n",
        "    - $z_t = \\sigma(W_z \\cdot [h_{t-1}, x_t])$\n",
        "    \n",
        "+ <font color=red size=3> Candidate Activation vector:</font> Computed using the current input x and modified version of the previous hidden state that is `reset` by the reset gate.\n",
        "    - $\\tilde{h}_t = \\tanh(W_h \\cdot [r_t \\odot h_{t-1}, x_t])$\n",
        "\n",
        "+ <font color=blue size=3> Hidden state</font>\n",
        "    - $h_t = (1 - z_t) \\odot h_{t-1} + z_t \\odot \\tilde{h}_t$\n",
        "\n",
        "Note: the $W_r$, $W_z$, $W_h$ are the weights associated with the GRU cell."
      ]
    },
    {
      "cell_type": "markdown",
      "metadata": {
        "id": "DBsroLYqIkXF"
      },
      "source": [
        "# GRU Implementation\n",
        "Now, implement a Gated Recurrent Unit from scratch."
      ]
    },
    {
      "cell_type": "code",
      "execution_count": 11,
      "metadata": {
        "id": "m9cNn0iNIkXF"
      },
      "outputs": [],
      "source": [
        "class GRU_cell(nn.Module):\n",
        "    def __init__(self, input_dim, hidden_dim, num_calsses):\n",
        "        super().__init__()\n",
        "        self.input_dim = input_dim\n",
        "        self.hidden_dim = hidden_dim\n",
        "        self.num_classes = num_calsses\n",
        "\n",
        "        self.reset_gate = nn.Linear(self.input_dim + self.hidden_dim, self.hidden_dim)\n",
        "        self.update_gate = nn.Linear(self.input_dim + self.hidden_dim, self.hidden_dim)\n",
        "        self.candidate = nn.Linear(self.input_dim + self.hidden_dim, self.hidden_dim)\n",
        "\n",
        "        self.output = nn.Linear(self.hidden_dim, self.num_classes)\n",
        "\n",
        "        # TODO\n",
        "        # define activation functions\n",
        "        self.sigmoid = nn.Sigmoid()\n",
        "        self.tanh = nn.Tanh()\n",
        "\n",
        "    def forward(self, x, h, end=False):\n",
        "        combined = torch.cat([x, h], dim=1)\n",
        "        r_t = self.sigmoid(self.reset_gate(combined))\n",
        "        z_t = self.sigmoid(self.update_gate(combined))\n",
        "        r_combined = torch.cat([r_t * h, x], dim=1)\n",
        "        h_tilde = self.tanh(self.candidate(r_combined))\n",
        "        h_t = (1 - z_t) * h + z_t * h_tilde\n",
        "        out = self.output(h_t)\n",
        "        return out, h_t"
      ]
    },
    {
      "cell_type": "markdown",
      "metadata": {
        "id": "MEMEGtoDIkXF"
      },
      "source": [
        "# MNIST\n",
        "MNIST database is a collection of handwritten digits. You are going to use this database to train and test your GRU cell.\n",
        "\n",
        "First, to download this database run the cell below."
      ]
    },
    {
      "cell_type": "code",
      "execution_count": 12,
      "metadata": {
        "id": "mNWzab5IIkXF",
        "colab": {
          "base_uri": "https://localhost:8080/"
        },
        "outputId": "8bdb93f5-2e17-49dc-d017-e677496b611d"
      },
      "outputs": [
        {
          "output_type": "stream",
          "name": "stdout",
          "text": [
            "Downloading http://yann.lecun.com/exdb/mnist/train-images-idx3-ubyte.gz\n",
            "Failed to download (trying next):\n",
            "HTTP Error 403: Forbidden\n",
            "\n",
            "Downloading https://ossci-datasets.s3.amazonaws.com/mnist/train-images-idx3-ubyte.gz\n",
            "Downloading https://ossci-datasets.s3.amazonaws.com/mnist/train-images-idx3-ubyte.gz to data/MNIST/raw/train-images-idx3-ubyte.gz\n"
          ]
        },
        {
          "output_type": "stream",
          "name": "stderr",
          "text": [
            "100%|██████████| 9.91M/9.91M [00:00<00:00, 11.5MB/s]\n"
          ]
        },
        {
          "output_type": "stream",
          "name": "stdout",
          "text": [
            "Extracting data/MNIST/raw/train-images-idx3-ubyte.gz to data/MNIST/raw\n",
            "\n",
            "Downloading http://yann.lecun.com/exdb/mnist/train-labels-idx1-ubyte.gz\n",
            "Failed to download (trying next):\n",
            "HTTP Error 403: Forbidden\n",
            "\n",
            "Downloading https://ossci-datasets.s3.amazonaws.com/mnist/train-labels-idx1-ubyte.gz\n",
            "Downloading https://ossci-datasets.s3.amazonaws.com/mnist/train-labels-idx1-ubyte.gz to data/MNIST/raw/train-labels-idx1-ubyte.gz\n"
          ]
        },
        {
          "output_type": "stream",
          "name": "stderr",
          "text": [
            "100%|██████████| 28.9k/28.9k [00:00<00:00, 346kB/s]\n"
          ]
        },
        {
          "output_type": "stream",
          "name": "stdout",
          "text": [
            "Extracting data/MNIST/raw/train-labels-idx1-ubyte.gz to data/MNIST/raw\n",
            "\n",
            "Downloading http://yann.lecun.com/exdb/mnist/t10k-images-idx3-ubyte.gz\n",
            "Failed to download (trying next):\n",
            "HTTP Error 403: Forbidden\n",
            "\n",
            "Downloading https://ossci-datasets.s3.amazonaws.com/mnist/t10k-images-idx3-ubyte.gz\n",
            "Downloading https://ossci-datasets.s3.amazonaws.com/mnist/t10k-images-idx3-ubyte.gz to data/MNIST/raw/t10k-images-idx3-ubyte.gz\n"
          ]
        },
        {
          "output_type": "stream",
          "name": "stderr",
          "text": [
            "100%|██████████| 1.65M/1.65M [00:00<00:00, 3.18MB/s]\n"
          ]
        },
        {
          "output_type": "stream",
          "name": "stdout",
          "text": [
            "Extracting data/MNIST/raw/t10k-images-idx3-ubyte.gz to data/MNIST/raw\n",
            "\n",
            "Downloading http://yann.lecun.com/exdb/mnist/t10k-labels-idx1-ubyte.gz\n",
            "Failed to download (trying next):\n",
            "HTTP Error 403: Forbidden\n",
            "\n",
            "Downloading https://ossci-datasets.s3.amazonaws.com/mnist/t10k-labels-idx1-ubyte.gz\n",
            "Downloading https://ossci-datasets.s3.amazonaws.com/mnist/t10k-labels-idx1-ubyte.gz to data/MNIST/raw/t10k-labels-idx1-ubyte.gz\n"
          ]
        },
        {
          "output_type": "stream",
          "name": "stderr",
          "text": [
            "100%|██████████| 4.54k/4.54k [00:00<00:00, 2.59MB/s]"
          ]
        },
        {
          "output_type": "stream",
          "name": "stdout",
          "text": [
            "Extracting data/MNIST/raw/t10k-labels-idx1-ubyte.gz to data/MNIST/raw\n",
            "\n"
          ]
        },
        {
          "output_type": "stream",
          "name": "stderr",
          "text": [
            "\n"
          ]
        }
      ],
      "source": [
        "database = MNIST(root = 'data/', download = True)\n",
        "# TODO\n",
        "# get train and test data - use transforms.ToTensor() to convert images to tensor\n",
        "train_data = database.data[:60000]\n",
        "train_labels = database.targets[:60000]\n",
        "test_data = database.data[60000:]\n",
        "test_labels = database.targets[60000:]"
      ]
    },
    {
      "cell_type": "markdown",
      "metadata": {
        "id": "i5Fclh1oIkXF"
      },
      "source": [
        "Show the image and label of one instance from the train data."
      ]
    },
    {
      "cell_type": "code",
      "execution_count": 13,
      "metadata": {
        "id": "ss-fZMwqIkXF",
        "outputId": "f56d0a48-3c89-4038-9ba8-17a2cb397c39",
        "colab": {
          "base_uri": "https://localhost:8080/",
          "height": 452
        }
      },
      "outputs": [
        {
          "output_type": "display_data",
          "data": {
            "text/plain": [
              "<Figure size 640x480 with 1 Axes>"
            ],
            "image/png": "[encoded data removed]"
          },
          "metadata": {}
        }
      ],
      "source": [
        "# TODO\n",
        "plt.imshow(train_data[0], cmap='gray')\n",
        "plt.title(f'Label: {train_labels[0]}')\n",
        "plt.show()"
      ]
    },
    {
      "cell_type": "code",
      "execution_count": 14,
      "metadata": {
        "id": "Qa-oRpGtIkXF",
        "outputId": "e1c12a2b-3584-4336-b141-74b04c038ef6",
        "colab": {
          "base_uri": "https://localhost:8080/"
        }
      },
      "outputs": [
        {
          "output_type": "stream",
          "name": "stdout",
          "text": [
            "tensor([[  0,   0,   0,   0,   0,   0,   0,   0,   0,   0,   0,   0,   0,   0,\n",
            "           0,   0,   0,   0,   0,   0,   0,   0,   0,   0,   0,   0,   0,   0],\n",
            "        [  0,   0,   0,   0,   0,   0,   0,   0,   0,   0,   0,   0,   0,   0,\n",
            "           0,   0,   0,   0,   0,   0,   0,   0,   0,   0,   0,   0,   0,   0],\n",
            "        [  0,   0,   0,   0,   0,   0,   0,   0,   0,   0,   0,   0,   0,   0,\n",
            "           0,   0,   0,   0,   0,   0,   0,   0,   0,   0,   0,   0,   0,   0],\n",
            "        [  0,   0,   0,   0,   0,   0,   0,   0,   0,   0,   0,   0,   0,   0,\n",
            "           0,   0,   0,   0,   0,   0,   0,   0,   0,   0,   0,   0,   0,   0],\n",
            "        [  0,   0,   0,   0,   0,   0,   0,   0,   0,   0,   0,   0,   0,   0,\n",
            "           0,   0,   0,   0,   0,   0,   0,   0,   0,   0,   0,   0,   0,   0],\n",
            "        [  0,   0,   0,   0,   0,   0,   0,   0,   0,   0,   0,   0,   3,  18,\n",
            "          18,  18, 126, 136, 175,  26, 166, 255, 247, 127,   0,   0,   0,   0],\n",
            "        [  0,   0,   0,   0,   0,   0,   0,   0,  30,  36,  94, 154, 170, 253,\n",
            "         253, 253, 253, 253, 225, 172, 253, 242, 195,  64,   0,   0,   0,   0],\n",
            "        [  0,   0,   0,   0,   0,   0,   0,  49, 238, 253, 253, 253, 253, 253,\n",
            "         253, 253, 253, 251,  93,  82,  82,  56,  39,   0,   0,   0,   0,   0],\n",
            "        [  0,   0,   0,   0,   0,   0,   0,  18, 219, 253, 253, 253, 253, 253,\n",
            "         198, 182, 247, 241,   0,   0,   0,   0,   0,   0,   0,   0,   0,   0],\n",
            "        [  0,   0,   0,   0,   0,   0,   0,   0,  80, 156, 107, 253, 253, 205,\n",
            "          11,   0,  43, 154,   0,   0,   0,   0,   0,   0,   0,   0,   0,   0],\n",
            "        [  0,   0,   0,   0,   0,   0,   0,   0,   0,  14,   1, 154, 253,  90,\n",
            "           0,   0,   0,   0,   0,   0,   0,   0,   0,   0,   0,   0,   0,   0],\n",
            "        [  0,   0,   0,   0,   0,   0,   0,   0,   0,   0,   0, 139, 253, 190,\n",
            "           2,   0,   0,   0,   0,   0,   0,   0,   0,   0,   0,   0,   0,   0],\n",
            "        [  0,   0,   0,   0,   0,   0,   0,   0,   0,   0,   0,  11, 190, 253,\n",
            "          70,   0,   0,   0,   0,   0,   0,   0,   0,   0,   0,   0,   0,   0],\n",
            "        [  0,   0,   0,   0,   0,   0,   0,   0,   0,   0,   0,   0,  35, 241,\n",
            "         225, 160, 108,   1,   0,   0,   0,   0,   0,   0,   0,   0,   0,   0],\n",
            "        [  0,   0,   0,   0,   0,   0,   0,   0,   0,   0,   0,   0,   0,  81,\n",
            "         240, 253, 253, 119,  25,   0,   0,   0,   0,   0,   0,   0,   0,   0],\n",
            "        [  0,   0,   0,   0,   0,   0,   0,   0,   0,   0,   0,   0,   0,   0,\n",
            "          45, 186, 253, 253, 150,  27,   0,   0,   0,   0,   0,   0,   0,   0],\n",
            "        [  0,   0,   0,   0,   0,   0,   0,   0,   0,   0,   0,   0,   0,   0,\n",
            "           0,  16,  93, 252, 253, 187,   0,   0,   0,   0,   0,   0,   0,   0],\n",
            "        [  0,   0,   0,   0,   0,   0,   0,   0,   0,   0,   0,   0,   0,   0,\n",
            "           0,   0,   0, 249, 253, 249,  64,   0,   0,   0,   0,   0,   0,   0],\n",
            "        [  0,   0,   0,   0,   0,   0,   0,   0,   0,   0,   0,   0,   0,   0,\n",
            "          46, 130, 183, 253, 253, 207,   2,   0,   0,   0,   0,   0,   0,   0],\n",
            "        [  0,   0,   0,   0,   0,   0,   0,   0,   0,   0,   0,   0,  39, 148,\n",
            "         229, 253, 253, 253, 250, 182,   0,   0,   0,   0,   0,   0,   0,   0],\n",
            "        [  0,   0,   0,   0,   0,   0,   0,   0,   0,   0,  24, 114, 221, 253,\n",
            "         253, 253, 253, 201,  78,   0,   0,   0,   0,   0,   0,   0,   0,   0],\n",
            "        [  0,   0,   0,   0,   0,   0,   0,   0,  23,  66, 213, 253, 253, 253,\n",
            "         253, 198,  81,   2,   0,   0,   0,   0,   0,   0,   0,   0,   0,   0],\n",
            "        [  0,   0,   0,   0,   0,   0,  18, 171, 219, 253, 253, 253, 253, 195,\n",
            "          80,   9,   0,   0,   0,   0,   0,   0,   0,   0,   0,   0,   0,   0],\n",
            "        [  0,   0,   0,   0,  55, 172, 226, 253, 253, 253, 253, 244, 133,  11,\n",
            "           0,   0,   0,   0,   0,   0,   0,   0,   0,   0,   0,   0,   0,   0],\n",
            "        [  0,   0,   0,   0, 136, 253, 253, 253, 212, 135, 132,  16,   0,   0,\n",
            "           0,   0,   0,   0,   0,   0,   0,   0,   0,   0,   0,   0,   0,   0],\n",
            "        [  0,   0,   0,   0,   0,   0,   0,   0,   0,   0,   0,   0,   0,   0,\n",
            "           0,   0,   0,   0,   0,   0,   0,   0,   0,   0,   0,   0,   0,   0],\n",
            "        [  0,   0,   0,   0,   0,   0,   0,   0,   0,   0,   0,   0,   0,   0,\n",
            "           0,   0,   0,   0,   0,   0,   0,   0,   0,   0,   0,   0,   0,   0],\n",
            "        [  0,   0,   0,   0,   0,   0,   0,   0,   0,   0,   0,   0,   0,   0,\n",
            "           0,   0,   0,   0,   0,   0,   0,   0,   0,   0,   0,   0,   0,   0]],\n",
            "       dtype=torch.uint8)\n"
          ]
        }
      ],
      "source": [
        "# TODO\n",
        "# show one image tensor\n",
        "print(train_data[0])"
      ]
    },
    {
      "cell_type": "markdown",
      "metadata": {
        "id": "q-GZIeEKIkXF"
      },
      "source": [
        "### Write a generate custom dataset function\n",
        "+ For each data in the database convert, use one-hot encoding from pytorch to encode your label to a vector. This is necessary for computing the amount of loss.\n",
        "+ It is common to use batches of data to train our model simultaneously on a batch. The length of a batch at most is `BATCH_SIZE`.\n",
        "    - Note: you can also train your model on each data (one by one) but the training part will take too much time.\n",
        "+ Return batches of data."
      ]
    },
    {
      "cell_type": "code",
      "execution_count": 15,
      "metadata": {
        "id": "EZm1aGo4IkXF"
      },
      "outputs": [],
      "source": [
        "HIDDEN_DIM = 15\n",
        "INPUT_DIM = 28\n",
        "NUM_CLASSES = 10\n",
        "BATCH_SIZE = 128\n",
        "EPOCHS = 30"
      ]
    },
    {
      "cell_type": "code",
      "execution_count": 18,
      "metadata": {
        "id": "eNU4Yy65IkXF"
      },
      "outputs": [],
      "source": [
        "def CustomDataset(data, labels, batch_size = BATCH_SIZE):\n",
        "    \"\"\"\n",
        "        Generate batches of data. Use one-hot encoding to encode your labels according to number of classes.\n",
        "\n",
        "        Parameters:\n",
        "            - data: MNIST database\n",
        "            - batch_size = BATCH_SIZE\n",
        "\n",
        "        Returns:\n",
        "            - batches = A list of [(image_tensor, encoded label)]. Each batch's length is at most BATCH_SIZE\n",
        "    \"\"\"\n",
        "    batches = []\n",
        "\n",
        "    for i in range(0, len(data), batch_size):\n",
        "        batch_data = data[i:i+batch_size]\n",
        "        batch_labels = labels[i:i+batch_size]\n",
        "        encoded_labels = nn.functional.one_hot(batch_labels, num_classes=NUM_CLASSES).float()\n",
        "        batch = [(image.unsqueeze(0).float(), label.unsqueeze(0)) for image, label in zip(batch_data, encoded_labels)]\n",
        "        batches.append(batch)\n",
        "    return batches"
      ]
    },
    {
      "cell_type": "markdown",
      "metadata": {
        "id": "m1DsWWnRIkXF"
      },
      "source": [
        "### Training loop\n",
        "write your training loop.\n",
        "+ For loss function: use `CrossEntropyLoss` function\n",
        "+ Use adam optimizer\n",
        "+ To optimize your training process, you can use `optim.lr_schduler`. (Why this will improve the training process?)\n",
        "    - `your answer` It helps in optimizing the learning process by adjusting the learning rate based on the training progress, leading to better performance, faster convergence, and more stable training.\n",
        "+ Note: Also, in each time step give one row of image tensor to the model because your model is sequential (you also can use each column)."
      ]
    },
    {
      "cell_type": "code",
      "execution_count": 47,
      "metadata": {
        "id": "HWBVpt6rIkXG",
        "outputId": "2c456595-b43d-4260-9e96-47ae2c88e997",
        "colab": {
          "base_uri": "https://localhost:8080/"
        }
      },
      "outputs": [
        {
          "output_type": "stream",
          "name": "stdout",
          "text": [
            "Epoch 1, Loss: 1.7522431\n",
            "Epoch 2, Loss: 1.1025127\n",
            "Epoch 3, Loss: 0.8721688\n",
            "Epoch 4, Loss: 0.7612479\n",
            "Epoch 5, Loss: 0.5746252\n",
            "Epoch 6, Loss: 0.4978615\n",
            "Epoch 7, Loss: 0.4312358\n",
            "Epoch 8, Loss: 0.3699973\n",
            "Epoch 9, Loss: 0.3374612\n",
            "Epoch 10, Loss: 0.3065037\n",
            "Epoch 11, Loss: 0.2841758\n",
            "Epoch 12, Loss: 0.2617439\n",
            "Epoch 13, Loss: 0.2472235\n",
            "Epoch 14, Loss: 0.2329974\n",
            "Epoch 15, Loss: 0.2185774\n",
            "Epoch 16, Loss: 0.1923985\n",
            "Epoch 17, Loss: 0.1919984\n",
            "Epoch 18, Loss: 0.1864223\n",
            "Epoch 19, Loss: 0.1785334\n",
            "Epoch 20, Loss: 0.1713858\n",
            "Epoch 21, Loss: 0.1639882\n",
            "Epoch 22, Loss: 0.1581943\n",
            "Epoch 23, Loss: 0.1523968\n",
            "Epoch 24, Loss: 0.1468429\n",
            "Epoch 25, Loss: 0.1423885\n",
            "Epoch 26, Loss: 0.1376523\n",
            "Epoch 27, Loss: 0.1337582\n",
            "Epoch 28, Loss: 0.1218513\n",
            "Epoch 29, Loss: 0.1191472\n",
            "Epoch 30, Loss: 0.1189538\n"
          ]
        }
      ],
      "source": [
        "# TODO\n",
        "# create batches\n",
        "batches = CustomDataset(train_data, train_labels)\n",
        "\n",
        "# Initialize model, loss function, and optimizer\n",
        "model = GRU_cell(INPUT_DIM, HIDDEN_DIM, NUM_CLASSES)\n",
        "criterion = nn.CrossEntropyLoss()\n",
        "optimizer = optim.Adam(model.parameters(), lr=0.001)\n",
        "\n",
        "# use scheduler to set learning rate\n",
        "scheduler = optim.lr_scheduler.StepLR(optimizer, step_size=10, gamma=0.1)\n",
        "\n",
        "# training loop\n",
        "# TODO\n",
        "# Training loop\n",
        "for epoch in range(EPOCHS):\n",
        "    model.train()\n",
        "    total_loss = 0\n",
        "    for batch in batches:\n",
        "        for x, y in batch:\n",
        "            h = torch.zeros(1, HIDDEN_DIM)\n",
        "            optimizer.zero_grad()\n",
        "            for t in range(x.size(1)):\n",
        "                out, h = model(x[:, t, :].view(1, -1), h)\n",
        "            loss = criterion(out, y)\n",
        "            loss.backward()\n",
        "            optimizer.step()\n",
        "            total_loss += loss.item()\n",
        "    scheduler.step()\n",
        "    print(f'Epoch {epoch+1}/{EPOCHS}, Loss: {total_loss/len(batches)}')\n",
        "\n",
        "test_batches = CustomDataset(test_data, test_labels)"
      ]
    },
    {
      "cell_type": "markdown",
      "metadata": {
        "id": "O-opVsFBIkXG"
      },
      "source": [
        "### Test your model on Test data\n",
        "Use the test data to evaluate your model.\n",
        "+ Print the accuracy of your model (should be greater than $94\\%$).\n",
        "+ Show some predictions with actual value from the test data."
      ]
    },
    {
      "cell_type": "code",
      "execution_count": 31,
      "metadata": {
        "id": "xUjUBYNHIkXG",
        "outputId": "d4c13a41-9545-4e8f-94b4-83f92f75e051",
        "colab": {
          "base_uri": "https://localhost:8080/"
        }
      },
      "outputs": [
        {
          "output_type": "stream",
          "name": "stdout",
          "text": [
            "Accuracy: 96.51%\n"
          ]
        }
      ],
      "source": [
        "model.eval()\n",
        "correct = 0\n",
        "total = 0\n",
        "\n",
        "with torch.no_grad():\n",
        "    for batch in test_batches:\n",
        "        for x, y in batch:\n",
        "            h = torch.zeros(1, HIDDEN_DIM)\n",
        "            for t in range(x.size(1)):\n",
        "                out, h = model(x[:, t, :].view(1, -1), h)\n",
        "            _, predicted = torch.max(out, 1)\n",
        "            total += y.size(0)\n",
        "            correct += (predicted == torch.argmax(y, dim=1)).sum().item()\n",
        "            accuracy = correct / total\n",
        "print(f'Accuracy: {accuracy * 100:.2f}%')"
      ]
    },
    {
      "cell_type": "code",
      "execution_count": 45,
      "metadata": {
        "id": "aqdkeKs0IkXG",
        "colab": {
          "base_uri": "https://localhost:8080/",
          "height": 685
        },
        "outputId": "e394b8f2-fcf6-4a93-a3f9-91279a6e9acc"
      },
      "outputs": [
        {
          "output_type": "display_data",
          "data": {
            "text/plain": [
              "<Figure size 1500x700 with 50 Axes>"
            ],
            "image/png": "[encoded data removed]"
          },
          "metadata": {}
        }
      ],
      "source": [
        "# show images of 50 predictions with actual values\n",
        "test_samples = np.random.choice(len(test_data), 50, replace=False)\n",
        "fig, axes = plt.subplots(5, 10, figsize=(15, 7))\n",
        "with torch.no_grad():\n",
        "    for idx, sample_idx in enumerate(test_samples):\n",
        "        x = test_data[sample_idx].unsqueeze(0).float()\n",
        "        y = test_labels[sample_idx]\n",
        "        h = torch.zeros(1, HIDDEN_DIM)\n",
        "        for t in range(x.size(1)):\n",
        "            out, h = model(x[:, t, :].view(1, -1), h)\n",
        "        _, predicted = torch.max(out, 1)\n",
        "        ax = axes[idx // 10, idx % 10]\n",
        "        ax.imshow(x.squeeze(), cmap='gray')\n",
        "        ax.set_title(f'P: {predicted.item()}, A: {y.item()}')\n",
        "        ax.axis('off')\n",
        "plt.tight_layout()\n",
        "plt.show()"
      ]
    }
  ],
  "metadata": {
    "kernelspec": {
      "display_name": "Python 3",
      "name": "python3"
    },
    "language_info": {
      "codemirror_mode": {
        "name": "ipython",
        "version": 3
      },
      "file_extension": ".py",
      "mimetype": "text/x-python",
      "name": "python",
      "nbconvert_exporter": "python",
      "pygments_lexer": "ipython3",
      "version": "3.9.18"
    },
    "colab": {
      "provenance": []
    }
  },
  "nbformat": 4,
  "nbformat_minor": 0
}