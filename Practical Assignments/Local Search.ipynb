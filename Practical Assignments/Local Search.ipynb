{
  "cells": [
    {
      "cell_type": "markdown",
      "metadata": {
        "id": "Y-LcZgilYiIM"
      },
      "source": [
        "\n",
        "<br>\n",
        "<font>\n",
        "<div dir=ltr align=center>\n",
        "<img src=\"https://cdn.freebiesupply.com/logos/large/2x/sharif-logo-png-transparent.png\" width=150 height=150> <br>\n",
        "<font color=0F5298 size=7>\n",
        "Artificial Intelligence <br>\n",
        "<font color=2565AE size=5>\n",
        "Computer Engineering Department <br>\n",
        "Fall 2024<br>\n",
        "<font color=3C99D size=5>\n",
        "Practical Assignment 1 - Local Search <br>\n",
        "<font color=696880 size=4>\n",
        "Davoud Kareshki\n",
        "\n",
        "\n",
        "____"
      ]
    },
    {
      "cell_type": "markdown",
      "metadata": {
        "id": "ZTYfCo5HYiIO"
      },
      "source": [
        "# Personal Data"
      ]
    },
    {
      "cell_type": "code",
      "execution_count": 28,
      "metadata": {
        "id": "YRJadVedYiIO"
      },
      "outputs": [],
      "source": [
        "# Set your student number\n",
        "student_number = '401105989'\n",
        "Name = 'Amirhosein'\n",
        "Last_Name = 'Rezaei'"
      ]
    },
    {
      "cell_type": "markdown",
      "metadata": {
        "id": "DK3TXXp2YiIO"
      },
      "source": [
        "# Problem definition\n",
        "In this homework, you should implement **Hill-Climbing** and **Simulated-Annealing** algorithms.\n",
        "\n",
        "Suppose we have a graph with 20 nodes and an edge between each pair of nodes. We aim to pick 5 nodes from the graph that induced subgraph of these nodes has a high sum of edges. To do that we will implement 3 algorithms. First for finding the actual answer with  **naive(brute force)** solution. Second, you should implement  **Hill-Climbing**, and then you should implement **Simulated-Annealing**."
      ]
    },
    {
      "cell_type": "markdown",
      "metadata": {
        "id": "ZxSQgK7_YiIP"
      },
      "source": [
        "# Rules\n",
        "- Uncompleted functions are to make your coding easier. You are allowed to change the format of codes and functions or add a function by yourself. But you should implement **Hill-Climbing** and  **Simulated-Annealing**.\n",
        "- Run all cells and leave the outputs\n",
        "- Half of the point of this problem is for implementing **Hill-Climbing** correctly and the other half is for implementing **Simulated-Annealing** correctly."
      ]
    },
    {
      "cell_type": "code",
      "execution_count": 29,
      "metadata": {
        "id": "oXE8DMExYiIP"
      },
      "outputs": [],
      "source": [
        "import numpy as np\n",
        "import random\n",
        "import math"
      ]
    },
    {
      "cell_type": "markdown",
      "metadata": {
        "id": "cpaGOvhuYiIP"
      },
      "source": [
        "# Generator\n",
        "Generator, generate a graph with n nodes. edges matrix is an n*n matrix that edges[i][j] is the weight of the edge between nodes i and j."
      ]
    },
    {
      "cell_type": "code",
      "execution_count": 30,
      "metadata": {
        "id": "usX5bGDiYiIQ"
      },
      "outputs": [],
      "source": [
        "def Generator(n, seed=42) :\n",
        "    random.seed(seed)\n",
        "    edges = np.zeros((n,n))\n",
        "    for i in range(n) :\n",
        "        for j in range(n) :\n",
        "            if i >= j :\n",
        "                continue\n",
        "            edges[i][j] = random.randint(0,100)\n",
        "            edges[j][i] = edges[i][j]\n",
        "    return edges"
      ]
    },
    {
      "cell_type": "code",
      "execution_count": 31,
      "metadata": {
        "id": "5Y10Eb5KYiIQ"
      },
      "outputs": [],
      "source": [
        "n = 20\n",
        "edges = Generator(n)"
      ]
    },
    {
      "cell_type": "code",
      "execution_count": 32,
      "metadata": {
        "colab": {
          "base_uri": "https://localhost:8080/"
        },
        "id": "2B73wTVnYiIQ",
        "outputId": "1eb3d474-d70b-4eed-a9ba-126b2d5d0465"
      },
      "outputs": [
        {
          "output_type": "stream",
          "name": "stdout",
          "text": [
            "[[ 0. 81. 14.  3. 94. 35. 31. 28. 17. 94. 13. 86. 94. 69. 11. 75. 54.  4.\n",
            "   3. 11.]\n",
            " [81.  0. 27. 29. 64. 77.  3. 71. 25. 91. 83. 89. 69. 53. 28. 57. 75. 35.\n",
            "   0. 97.]\n",
            " [14. 27.  0. 20. 89. 54. 43. 35. 19. 27. 97. 43. 13. 11. 48. 12. 45. 44.\n",
            "  77. 33.]\n",
            " [ 3. 29. 20.  0.  5. 93. 58. 68. 15. 48. 10. 70. 37. 80. 79. 46. 73. 24.\n",
            "  90.  8.]\n",
            " [94. 64. 89.  5.  0.  5. 84. 29. 98. 37. 10. 29. 12. 48. 35. 58. 81. 46.\n",
            "  20. 47.]\n",
            " [35. 77. 54. 93.  5.  0. 45. 26. 85. 34. 89. 87. 82.  9. 77. 81. 21. 68.\n",
            "  93. 31.]\n",
            " [31.  3. 43. 58. 84. 45.  0. 20. 59. 48. 34. 81. 88. 71. 28. 87. 41. 98.\n",
            "  99.  7.]\n",
            " [28. 71. 35. 68. 29. 26. 20.  0. 29.  4. 40. 51. 34.  8. 27. 72. 91. 40.\n",
            "  27. 83.]\n",
            " [17. 25. 19. 15. 98. 85. 59. 29.  0. 63. 50. 82. 58. 18. 33. 17. 31. 95.\n",
            "  71. 68.]\n",
            " [94. 91. 27. 48. 37. 34. 48.  4. 63.  0. 33. 95. 74. 54. 74. 51. 46. 28.\n",
            "  17. 65.]\n",
            " [13. 83. 97. 10. 10. 89. 34. 40. 50. 33.  0. 63. 11. 96.  6. 14. 19. 80.\n",
            "  20. 87.]\n",
            " [86. 89. 43. 70. 29. 87. 81. 51. 82. 95. 63.  0. 54. 76.  8. 49. 48. 76.\n",
            "  59. 67.]\n",
            " [94. 69. 13. 37. 12. 82. 88. 34. 58. 74. 11. 54.  0. 32. 70.  1. 87. 92.\n",
            "  14. 87.]\n",
            " [69. 53. 11. 80. 48.  9. 71.  8. 18. 54. 96. 76. 32.  0. 68. 96. 34. 98.\n",
            "  82. 43.]\n",
            " [11. 28. 48. 79. 35. 77. 28. 27. 33. 74.  6.  8. 70. 68.  0. 14. 37. 55.\n",
            "  20. 58.]\n",
            " [75. 57. 12. 46. 58. 81. 87. 72. 17. 51. 14. 49.  1. 96. 14.  0.  0. 92.\n",
            "  92. 33.]\n",
            " [54. 75. 45. 73. 81. 21. 41. 91. 31. 46. 19. 48. 87. 34. 37.  0.  0. 64.\n",
            "  97. 22.]\n",
            " [ 4. 35. 44. 24. 46. 68. 98. 40. 95. 28. 80. 76. 92. 98. 55. 92. 64.  0.\n",
            "  64. 13.]\n",
            " [ 3.  0. 77. 90. 20. 93. 99. 27. 71. 17. 20. 59. 14. 82. 20. 92. 97. 64.\n",
            "   0. 80.]\n",
            " [11. 97. 33.  8. 47. 31.  7. 83. 68. 65. 87. 67. 87. 43. 58. 33. 22. 13.\n",
            "  80.  0.]]\n"
          ]
        }
      ],
      "source": [
        "print(edges)"
      ]
    },
    {
      "cell_type": "markdown",
      "metadata": {
        "id": "C2-9Mw-GYiIR"
      },
      "source": [
        "# Brute force"
      ]
    },
    {
      "cell_type": "code",
      "execution_count": 33,
      "metadata": {
        "id": "sytk2i_NYiIR"
      },
      "outputs": [],
      "source": [
        "def brute_force(n, k, edges, picked = set()) :\n",
        "    '''\n",
        "        input\n",
        "            n = number of nodes\n",
        "            k = number of nodes to pick\n",
        "            picked = already picked nodes\n",
        "        output\n",
        "            ans = best answer that contains the nodes of 'picked'\n",
        "    '''\n",
        "    n = edges.shape[0]\n",
        "    if len(picked) == k :\n",
        "        ans = 0\n",
        "        for u in picked :\n",
        "            for v in picked :\n",
        "                if v > u :\n",
        "                    ans += edges[u][v]\n",
        "        return ans\n",
        "\n",
        "    ans = 0\n",
        "    for v in range(n) :\n",
        "        if v not in picked :\n",
        "             picked.add(v)\n",
        "             ans = max(ans, brute_force(n, k, edges, picked))\n",
        "             picked.remove(v)\n",
        "    return ans"
      ]
    },
    {
      "cell_type": "code",
      "execution_count": 34,
      "metadata": {
        "colab": {
          "base_uri": "https://localhost:8080/"
        },
        "id": "JIGqEtJ-YiIR",
        "outputId": "49d70bbd-5616-4d36-dc3c-9efd37e833dd"
      },
      "outputs": [
        {
          "output_type": "stream",
          "name": "stdout",
          "text": [
            "879.0\n"
          ]
        }
      ],
      "source": [
        "k = 5\n",
        "ans = brute_force(n, k, edges)\n",
        "print(ans)"
      ]
    },
    {
      "cell_type": "markdown",
      "metadata": {
        "id": "Ynx8SkAwYiIR"
      },
      "source": [
        "# Hill climbing"
      ]
    },
    {
      "cell_type": "code",
      "execution_count": 35,
      "metadata": {
        "id": "bSZn5qxYYiIR"
      },
      "outputs": [],
      "source": [
        "def random_choice(n, k):\n",
        "    '''\n",
        "        choose k random unique number between 1 to n\n",
        "    '''\n",
        "    output = []\n",
        "    output = random.sample(range(n), k)\n",
        "    return output"
      ]
    },
    {
      "cell_type": "code",
      "execution_count": 36,
      "metadata": {
        "id": "qGRFOawnYiIR"
      },
      "outputs": [],
      "source": [
        "def get_value(state, edges):\n",
        "    '''\n",
        "        state is a list that contains some nodes\n",
        "        return sum of edges of state nodes\n",
        "    '''\n",
        "\n",
        "    ans = 0\n",
        "    for i in range(len(state)):\n",
        "        for j in range(i + 1, len(state)):\n",
        "            u, v = state[i], state[j]\n",
        "            ans += edges[u][v]\n",
        "    return ans"
      ]
    },
    {
      "cell_type": "markdown",
      "metadata": {
        "id": "bsSmqWdnYiIS"
      },
      "source": [
        "We consider two states like X and Y as neighbor states, if there is exactly one node in X that isn't in Y and there is exactly one node in Y that isn't in X.\n",
        "\n",
        "For instance [2,3,4,5,6] and [2,3,4,6,7] are neighbors but [2,3,4,5,6] and [1,2,3,7,8] aren't neighbors."
      ]
    },
    {
      "cell_type": "code",
      "execution_count": 37,
      "metadata": {
        "id": "zaX-VMBuYiIS"
      },
      "outputs": [],
      "source": [
        "def get_neighbors(n, state):\n",
        "    '''\n",
        "        return neighbors of state\n",
        "    '''\n",
        "    neighbors = []\n",
        "    for i in range(n):\n",
        "        if i not in state:\n",
        "            for j in range(len(state)):\n",
        "                new_neighbor = state[:j] + [i] + state[j+1:]\n",
        "                neighbors.append(new_neighbor)\n",
        "    return neighbors\n"
      ]
    },
    {
      "cell_type": "code",
      "execution_count": 38,
      "metadata": {
        "id": "Ts-zPDOaYiIS"
      },
      "outputs": [],
      "source": [
        "def hill_climbing(n, k, edges, num_iters = 10000):\n",
        "    '''\n",
        "        input\n",
        "            n = number of graph nodes\n",
        "            k = number of nodes to pick\n",
        "            edges = graph edges weights\n",
        "            num_iters = maximum number of iterations\n",
        "        output\n",
        "            best_value = best state value\n",
        "    '''\n",
        "\n",
        "    current_state = random_choice(n,k)\n",
        "    current_value = get_value(current_state, edges)\n",
        "    best_value = current_value\n",
        "\n",
        "    while num_iters > 0 :\n",
        "        num_iters -= 1\n",
        "        neighbors = get_neighbors(n, current_state)\n",
        "        next_value = current_value\n",
        "        next_state = None\n",
        "\n",
        "        for neighbor in neighbors:\n",
        "            neighbor_value = get_value(neighbor, edges)\n",
        "            if neighbor_value > next_value:\n",
        "                next_value = neighbor_value\n",
        "                next_state = neighbor\n",
        "\n",
        "        if next_value <= current_value:\n",
        "            break\n",
        "\n",
        "        current_value = next_value\n",
        "        current_state = next_state\n",
        "\n",
        "        if current_value > best_value:\n",
        "            best_value = current_value\n",
        "\n",
        "    return best_value"
      ]
    },
    {
      "cell_type": "code",
      "execution_count": 39,
      "metadata": {
        "colab": {
          "base_uri": "https://localhost:8080/"
        },
        "id": "PilIl2PpYiIS",
        "outputId": "08e5b277-a6f8-49e0-b5a3-043770dc9b43"
      },
      "outputs": [
        {
          "output_type": "stream",
          "name": "stdout",
          "text": [
            "827.0\n"
          ]
        }
      ],
      "source": [
        "ans = hill_climbing(n, k, edges)\n",
        "print(ans)"
      ]
    },
    {
      "cell_type": "markdown",
      "metadata": {
        "id": "UfeqiC0tYiIS"
      },
      "source": [
        "# Simulated annealing"
      ]
    },
    {
      "cell_type": "code",
      "execution_count": 40,
      "metadata": {
        "id": "mgr6j4AjYiIS"
      },
      "outputs": [],
      "source": [
        "def simulated_annealing(n, k, edges, alpha = 0.9, initial_temp = 100000, max_iteration = 100000, min_temperature = 0.0001):\n",
        "    '''\n",
        "    input\n",
        "        alpha is the temperature decay rate\n",
        "        max_iteration is the maximum number of iteration (termination condition)\n",
        "        min_temperature is the minimum temperature (termination condition)\n",
        "    output\n",
        "        best state value\n",
        "    '''\n",
        "    temperature = initial_temp\n",
        "    best_value = float('-INF')\n",
        "\n",
        "    current_state = random_choice(n, k)\n",
        "    current_value = get_value(current_state, edges)\n",
        "    best_value = current_value\n",
        "\n",
        "    while(temperature >= min_temperature and max_iteration > 0):\n",
        "        max_iteration -= 1\n",
        "        nextState = random.choice(get_neighbors(n, current_state))\n",
        "\n",
        "        next_value = get_value(nextState, edges)\n",
        "        if next_value > current_value:\n",
        "            current_state = nextState\n",
        "            current_value = next_value\n",
        "        else:\n",
        "            delta_value = next_value - current_value\n",
        "            probability = math.exp(delta_value / temperature)\n",
        "            if random.random() < probability:\n",
        "                current_state = nextState\n",
        "                current_value = next_value\n",
        "        if current_value > best_value:\n",
        "            best_value = current_value\n",
        "\n",
        "        temperature = alpha * temperature\n",
        "\n",
        "    return best_value\n"
      ]
    },
    {
      "cell_type": "code",
      "execution_count": 41,
      "metadata": {
        "colab": {
          "base_uri": "https://localhost:8080/"
        },
        "id": "hUUbY1mRYiIS",
        "outputId": "747f166e-669c-4712-a2ab-90d10bf9972e"
      },
      "outputs": [
        {
          "output_type": "stream",
          "name": "stdout",
          "text": [
            "879.0\n"
          ]
        }
      ],
      "source": [
        "ans = simulated_annealing(n, k, edges)\n",
        "print(ans)"
      ]
    },
    {
      "cell_type": "markdown",
      "metadata": {
        "id": "IPW5xUW1YiIS"
      },
      "source": [
        "# How much Hill climbing and Simulated annealing answers are close to actual answers?"
      ]
    },
    {
      "cell_type": "markdown",
      "metadata": {
        "id": "JbC0v9_iYiIS"
      },
      "source": [
        "Run 3 algorithms 10 times and watch the result. Hill climbing and simulated annealing results should be close to actual answers(brute force results).\n",
        "\n",
        "Running the following cell may take around 2 minutes."
      ]
    },
    {
      "cell_type": "code",
      "execution_count": 42,
      "metadata": {
        "id": "vK0DBYI9YiIT"
      },
      "outputs": [],
      "source": [
        "k = 5\n",
        "seeds = [10, 20, 30, 40, 50, 60, 70, 80, 142, 2024]\n",
        "brute_force_result = []\n",
        "hill_climbing_result = []\n",
        "simulated_annealing_result = []\n",
        "for seed in seeds:\n",
        "    edges = Generator(n, seed)\n",
        "    brute_force_result.append(brute_force(n, k, edges))\n",
        "    hill_climbing_result.append(hill_climbing(n, k, edges))\n",
        "    simulated_annealing_result.append(simulated_annealing(n, k, edges))\n"
      ]
    },
    {
      "cell_type": "code",
      "execution_count": 43,
      "metadata": {
        "id": "QNPArOXZYiIT",
        "outputId": "4e481498-a61f-4ad8-b8c9-08ed232cc79b",
        "colab": {
          "base_uri": "https://localhost:8080/"
        }
      },
      "outputs": [
        {
          "output_type": "stream",
          "name": "stdout",
          "text": [
            "brute_force_result         : [785.0, 810.0, 819.0, 783.0, 832.0, 789.0, 813.0, 763.0, 818.0, 860.0]\n",
            "hill_climbing_result       : [724.0, 702.0, 819.0, 742.0, 832.0, 732.0, 798.0, 761.0, 781.0, 860.0]\n",
            "simulated_annealing_result : [764.0, 737.0, 800.0, 776.0, 674.0, 783.0, 813.0, 763.0, 771.0, 775.0]\n"
          ]
        }
      ],
      "source": [
        "print('brute_force_result         :', brute_force_result)\n",
        "print('hill_climbing_result       :', hill_climbing_result)\n",
        "print('simulated_annealing_result :', simulated_annealing_result)"
      ]
    }
  ],
  "metadata": {
    "colab": {
      "provenance": []
    },
    "kernelspec": {
      "display_name": "Python 3",
      "language": "python",
      "name": "python3"
    },
    "language_info": {
      "codemirror_mode": {
        "name": "ipython",
        "version": 3
      },
      "file_extension": ".py",
      "mimetype": "text/x-python",
      "name": "python",
      "nbconvert_exporter": "python",
      "pygments_lexer": "ipython3",
      "version": "3.8.6"
    }
  },
  "nbformat": 4,
  "nbformat_minor": 0
}